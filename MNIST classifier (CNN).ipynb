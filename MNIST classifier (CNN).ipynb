{
 "cells": [
  {
   "cell_type": "markdown",
   "metadata": {},
   "source": [
    "# MNIST classification using a standard CNN\n",
    "\n",
    "Here we will perform classification on the MNIST dataset. We will use 2 sets of convolution & pooling layers, before processing via the fully-connected layers. The convolution layers will have 5 filters."
   ]
  },
  {
   "cell_type": "code",
   "execution_count": 183,
   "metadata": {},
   "outputs": [],
   "source": [
    "import numpy as np\n",
    "import tensorflow as tf\n",
    "\n",
    "# Loading the dataset\n",
    "dataset = tf.keras.datasets.mnist.load_data()\n",
    "training_set, test_set = dataset"
   ]
  },
  {
   "cell_type": "markdown",
   "metadata": {},
   "source": [
    "### Viewing a sample\n",
    "\n",
    "Below is a randomised sample from the training set, visualised in false colour. Note that there are 60,000 sampes to choose from, so i must be in the range (0, 59999) inclusive.\n",
    "\n",
    "If you run the cell after, the images will be resized to 4-dimensions. Rerun the above code cell to reset the dataset."
   ]
  },
  {
   "cell_type": "code",
   "execution_count": 184,
   "metadata": {},
   "outputs": [
    {
     "name": "stdout",
     "output_type": "stream",
     "text": [
      "Label = 3\n"
     ]
    },
    {
     "data": {
      "image/png": "[encoded data removed]",
      "text/plain": [
       "<Figure size 432x288 with 2 Axes>"
      ]
     },
     "metadata": {
      "needs_background": "light"
     },
     "output_type": "display_data"
    }
   ],
   "source": [
    "import matplotlib.pyplot as plt\n",
    "from random import randint\n",
    "\n",
    "i = randint(0, 59999)\n",
    "print('Label = {}'.format(training_set[1][i]))\n",
    "plt.imshow(training_set[0][i])\n",
    "plt.colorbar()\n",
    "plt.show()"
   ]
  },
  {
   "cell_type": "code",
   "execution_count": 164,
   "metadata": {},
   "outputs": [
    {
     "data": {
      "text/plain": [
       "(60000, 28, 28, 1)"
      ]
     },
     "execution_count": 164,
     "metadata": {},
     "output_type": "execute_result"
    }
   ],
   "source": [
    "# Reshaping to 4D arrays and normalisation for the CNN\n",
    "x_train = x_train.reshape(x_train.shape[0], 28, 28, 1)\n",
    "x_test = x_test.reshape(x_test.shape[0], 28, 28, 1)\n",
    "\n",
    "x_train = x_train/255.0\n",
    "x_test = x_test/255.0"
   ]
  },
  {
   "cell_type": "code",
   "execution_count": 174,
   "metadata": {
    "scrolled": false
   },
   "outputs": [
    {
     "name": "stdout",
     "output_type": "stream",
     "text": [
      "Train on 60000 samples\n",
      "Epoch 1/5\n",
      "60000/60000 [==============================] - 49s 815us/sample - loss: 0.3587 - accuracy: 0.8874\n",
      "Epoch 2/5\n",
      "60000/60000 [==============================] - 41s 686us/sample - loss: 0.1591 - accuracy: 0.9490\n",
      "Epoch 3/5\n",
      "60000/60000 [==============================] - 42s 700us/sample - loss: 0.1248 - accuracy: 0.9601\n",
      "Epoch 4/5\n",
      "60000/60000 [==============================] - 37s 624us/sample - loss: 0.1063 - accuracy: 0.9665\n",
      "Epoch 5/5\n",
      "60000/60000 [==============================] - 33s 542us/sample - loss: 0.0949 - accuracy: 0.9693\n"
     ]
    },
    {
     "data": {
      "text/plain": [
       "<tensorflow.python.keras.callbacks.History at 0x19ac4d12948>"
      ]
     },
     "execution_count": 174,
     "metadata": {},
     "output_type": "execute_result"
    }
   ],
   "source": [
    "from tensorflow.keras.layers import Conv2D, MaxPooling2D, Flatten, Dropout, Dense \n",
    "\n",
    "model = tf.keras.models.Sequential()\n",
    "\n",
    "# Add layers\n",
    "model.add(Conv2D(filters=5, kernel_size=(3,3), input_shape=(28,28,1), activation = 'relu'))\n",
    "model.add(MaxPooling2D(pool_size=(2, 2)))\n",
    "model.add(Conv2D(filters=5, kernel_size=(3,3), input_shape=(28,28,1), activation = 'relu'))\n",
    "model.add(MaxPooling2D(pool_size=(2, 2)))\n",
    "model.add(Flatten())\n",
    "model.add(Dropout(0.2))\n",
    "model.add(Dense(128, activation = 'relu'))\n",
    "model.add(Dense(10, activation = 'softmax'))\n",
    "\n",
    "# Compilation of layers and fitting\n",
    "model.compile(optimizer='adam',\n",
    "              loss='sparse_categorical_crossentropy',\n",
    "              metrics = ['accuracy'])\n",
    "model.fit(x=x_train, y=y_train, epochs = 5)"
   ]
  },
  {
   "cell_type": "code",
   "execution_count": 182,
   "metadata": {},
   "outputs": [
    {
     "name": "stdout",
     "output_type": "stream",
     "text": [
      "10000/10000 [==============================] - 2s 236us/sample - loss: 0.0548 - accuracy: 0.9822\n"
     ]
    },
    {
     "data": {
      "text/plain": [
       "[0.054815794108528645, 0.9822]"
      ]
     },
     "execution_count": 182,
     "metadata": {},
     "output_type": "execute_result"
    }
   ],
   "source": [
    "model.evaluate(x_test, y_test)"
   ]
  },
  {
   "cell_type": "markdown",
   "metadata": {},
   "source": [
    "### Results (accuracy)\n",
    "0.984: filters=5, kernel_size = 3x3, pool_size=2x2, no Dropout(), units=64 epochs=5\n",
    "\n",
    "0.9813: filters=5, kernel_size = 3x3, pool_size=2x2, Dropout(0.2), units=54, epochs=5\n",
    "\n",
    "0.9857: filters=5, kernel_size = 3x3, pool_size=2x2, no Dropout(), units=128 epochs=5\n",
    "\n",
    "0.9822: filters=5, kernel_size = 3x3, pool_size=2x2, Dropout(0.2), units=128 epochs=5"
   ]
  },
  {
   "cell_type": "code",
   "execution_count": null,
   "metadata": {},
   "outputs": [],
   "source": []
  }
 ],
 "metadata": {
  "kernelspec": {
   "display_name": "Python 3",
   "language": "python",
   "name": "python3"
  },
  "language_info": {
   "codemirror_mode": {
    "name": "ipython",
    "version": 3
   },
   "file_extension": ".py",
   "mimetype": "text/x-python",
   "name": "python",
   "nbconvert_exporter": "python",
   "pygments_lexer": "ipython3",
   "version": "3.7.6"
  }
 },
 "nbformat": 4,
 "nbformat_minor": 4
}
